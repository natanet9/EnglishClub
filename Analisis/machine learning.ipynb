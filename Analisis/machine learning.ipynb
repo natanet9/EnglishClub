{
 "cells": [
  {
   "metadata": {},
   "cell_type": "code",
   "outputs": [],
   "execution_count": null,
   "source": "# cargar datos",
   "id": "656f484c2a74879"
  },
  {
   "metadata": {},
   "cell_type": "code",
   "outputs": [],
   "execution_count": null,
   "source": "import pandas as pd",
   "id": "5306ae3b493bee70"
  },
  {
   "metadata": {},
   "cell_type": "code",
   "outputs": [],
   "execution_count": null,
   "source": "df = pd.read_csv('datos_vark_entrenamiento.csv')",
   "id": "f6d326132f90a7bd"
  },
  {
   "metadata": {},
   "cell_type": "code",
   "outputs": [],
   "execution_count": null,
   "source": "#df",
   "id": "e892d8adb55e4152"
  },
  {
   "metadata": {},
   "cell_type": "markdown",
   "source": "# Preprcesar datos",
   "id": "4a42d50287eba4e5"
  },
  {
   "metadata": {},
   "cell_type": "code",
   "outputs": [],
   "execution_count": null,
   "source": [
    "from sklearn.model_selection import train_test_split\n",
    "from sklearn.preprocessing import LabelEncoder"
   ],
   "id": "bbbf60d7711b8b4f"
  },
  {
   "metadata": {},
   "cell_type": "code",
   "outputs": [],
   "execution_count": null,
   "source": [
    "X = df[['visual', 'aural', 'read_write', 'kinesthetic']]\n",
    "y = df['recurso']"
   ],
   "id": "6860573484f1f3a1"
  },
  {
   "metadata": {},
   "cell_type": "code",
   "outputs": [],
   "execution_count": null,
   "source": [
    "le = LabelEncoder()\n",
    "y_encoded = le.fit_transform(y)"
   ],
   "id": "af546f7ad1ab2a2a"
  },
  {
   "metadata": {},
   "cell_type": "code",
   "outputs": [],
   "execution_count": null,
   "source": "X_train, X_test, y_train, y_test = train_test_split(X, y_encoded, test_size=0.2, random_state=42)",
   "id": "9086547604a5ee0c"
  },
  {
   "metadata": {},
   "cell_type": "markdown",
   "source": "# Entrenar",
   "id": "39d71d8629f028ce"
  },
  {
   "metadata": {},
   "cell_type": "code",
   "outputs": [],
   "execution_count": null,
   "source": "from sklearn.tree import DecisionTreeClassifier",
   "id": "fd955f33d38fdc89"
  },
  {
   "metadata": {},
   "cell_type": "code",
   "outputs": [],
   "execution_count": null,
   "source": [
    "modelo = DecisionTreeClassifier(random_state=42)\n",
    "modelo.fit(X_train, y_train)"
   ],
   "id": "1c922bbe4d973274"
  },
  {
   "metadata": {},
   "cell_type": "markdown",
   "source": "# Evaluar el modelo",
   "id": "b79ac9d4b4240880"
  },
  {
   "metadata": {},
   "cell_type": "code",
   "outputs": [],
   "execution_count": null,
   "source": "from sklearn.metrics import accuracy_score, classification_report",
   "id": "6fbc8900080a5b"
  },
  {
   "metadata": {},
   "cell_type": "code",
   "outputs": [],
   "execution_count": null,
   "source": [
    "y_pred = modelo.predict(X_test)\n",
    "print(\"Precisión:\", accuracy_score(y_test, y_pred))\n",
    "print(\"Reporte:\\n\", classification_report(y_test, y_pred, target_names=le.classes_))"
   ],
   "id": "bd8e3cd03ecd0f98"
  },
  {
   "metadata": {},
   "cell_type": "markdown",
   "source": "# Probar con un nuevo estudiante",
   "id": "900db86afaeff7f5"
  },
  {
   "metadata": {},
   "cell_type": "code",
   "outputs": [],
   "execution_count": null,
   "source": [
    "# Estudiante con:\n",
    "# visual=4, aural=6, read_write=3, kinesthetic=3\n",
    "nuevo_estudiante = pd.DataFrame([{\n",
    "    'visual': 4,\n",
    "    'aural': 6,\n",
    "    'read_write': 3,\n",
    "    'kinesthetic': 3\n",
    "}])\n",
    "\n",
    "prediccion = modelo.predict(nuevo_estudiante)\n",
    "resultado = le.inverse_transform(prediccion)"
   ],
   "id": "be838379439a4f25"
  },
  {
   "metadata": {},
   "cell_type": "code",
   "outputs": [],
   "execution_count": null,
   "source": "print(\"Recurso recomendado:\", resultado[0])",
   "id": "9096916a2765b1b3"
  },
  {
   "metadata": {},
   "cell_type": "markdown",
   "source": "# Visualizar el árbol",
   "id": "dfe45c0266dbbd2b"
  },
  {
   "metadata": {},
   "cell_type": "code",
   "outputs": [],
   "execution_count": null,
   "source": [
    "from sklearn.tree import plot_tree\n",
    "import matplotlib.pyplot as plt"
   ],
   "id": "1cff750258b57920"
  },
  {
   "metadata": {},
   "cell_type": "code",
   "outputs": [],
   "execution_count": null,
   "source": [
    "plt.figure(figsize=(12, 8))\n",
    "plot_tree(modelo, feature_names=X.columns, class_names=le.classes_, filled=True)\n",
    "plt.show()\n",
    "\n",
    "plt.savefig(\"grafico_seno.svg\", format='svg', bbox_inches='tight')\n",
    "plt.show()"
   ],
   "id": "8dcd7b9b80be404"
  },
  {
   "metadata": {},
   "cell_type": "markdown",
   "source": "# graficos",
   "id": "22c0f9651bbda50c"
  },
  {
   "metadata": {},
   "cell_type": "code",
   "outputs": [],
   "execution_count": null,
   "source": [
    "import seaborn as sns\n",
    "import matplotlib.pyplot as plt"
   ],
   "id": "27f34c62af8f4ca1"
  },
  {
   "metadata": {},
   "cell_type": "code",
   "outputs": [],
   "execution_count": null,
   "source": [
    "plt.figure(figsize=(10, 6))\n",
    "df[['visual', 'aural', 'read_write', 'kinesthetic']].hist(bins=8)\n",
    "plt.suptitle(\"Distribución de puntajes por estilo VARK\")\n",
    "plt.tight_layout()\n",
    "plt.show()"
   ],
   "id": "18243f5ea7a02e0a"
  },
  {
   "metadata": {},
   "cell_type": "code",
   "outputs": [],
   "execution_count": null,
   "source": [
    "plt.figure(figsize=(6, 4))\n",
    "sns.countplot(data=df, x='recurso', hue='recurso', palette='Set2', legend=False)\n",
    "plt.title(\"Cantidad de estudiantes por recurso recomendado\")\n",
    "plt.xlabel(\"Recurso\")\n",
    "plt.ylabel(\"Cantidad\")\n",
    "plt.show()\n"
   ],
   "id": "b03a6bd08c09fefe"
  },
  {
   "metadata": {},
   "cell_type": "code",
   "outputs": [],
   "execution_count": null,
   "source": [
    "plt.figure(figsize=(10, 6))\n",
    "promedios = df.groupby('recurso')[['visual', 'aural', 'read_write', 'kinesthetic']].mean()\n",
    "promedios.plot(kind='bar')\n",
    "plt.title(\"Promedio de estilos VARK según recurso recomendado\")\n",
    "plt.ylabel(\"Puntaje promedio\")\n",
    "plt.xticks(rotation=0)\n",
    "plt.legend(title=\"Estilo\")\n",
    "plt.grid(axis='y')\n",
    "plt.show()"
   ],
   "id": "d667bb9cccb8df3b"
  },
  {
   "metadata": {},
   "cell_type": "code",
   "outputs": [],
   "execution_count": null,
   "source": [
    "from sklearn.tree import plot_tree\n",
    "\n",
    "plt.figure(figsize=(16, 10))\n",
    "plot_tree(modelo, feature_names=['visual', 'aural', 'read_write', 'kinesthetic'],\n",
    "          class_names=le.classes_, filled=True, rounded=True)\n",
    "plt.title(\"Árbol de Decisión para clasificación de estilo VARK\")\n",
    "plt.show()\n"
   ],
   "id": "75c14da649830f92"
  },
  {
   "metadata": {},
   "cell_type": "code",
   "outputs": [],
   "execution_count": null,
   "source": [
    "from sklearn.metrics import confusion_matrix, ConfusionMatrixDisplay\n",
    "\n",
    "# Predecimos los datos de prueba\n",
    "y_pred = modelo.predict(X_test)\n",
    "\n",
    "# Matriz de confusión\n",
    "cm = confusion_matrix(y_test, y_pred)\n",
    "\n",
    "# Mostrarla con etiquetas\n",
    "disp = ConfusionMatrixDisplay(confusion_matrix=cm, display_labels=le.classes_)\n",
    "disp.plot(cmap='Blues')\n",
    "plt.title(\"Matriz de Confusión - Evaluación del Modelo VARK\")\n",
    "plt.show()\n"
   ],
   "id": "9d18c0dc6b640a5b"
  },
  {
   "metadata": {},
   "cell_type": "markdown",
   "source": "# Guardar el modelo entrenado",
   "id": "9f55558c00233ba"
  },
  {
   "metadata": {},
   "cell_type": "code",
   "outputs": [],
   "execution_count": null,
   "source": "import joblib",
   "id": "4de3e05746af2e5c"
  },
  {
   "metadata": {},
   "cell_type": "code",
   "outputs": [],
   "execution_count": null,
   "source": [
    "joblib.dump(modelo, 'modelo_vark.pkl')\n",
    "joblib.dump(le, 'label_encoder.pkl')"
   ],
   "id": "173457bb9710b3ea"
  },
  {
   "metadata": {},
   "cell_type": "markdown",
   "source": "",
   "id": "4ec3815c66bcbd29"
  }
 ],
 "metadata": {},
 "nbformat": 5,
 "nbformat_minor": 9
}

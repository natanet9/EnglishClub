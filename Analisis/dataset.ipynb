{
 "cells": [
  {
   "metadata": {},
   "cell_type": "code",
   "outputs": [],
   "execution_count": null,
   "source": [
    "import random\n",
    "import pandas as pd"
   ],
   "id": "afb4852dcb47d013"
  },
  {
   "metadata": {},
   "cell_type": "code",
   "outputs": [],
   "execution_count": null,
   "source": [
    "def generar_estudiante():\n",
    "    # Repartir 16 puntos entre 4 áreas\n",
    "    puntos = [0, 0, 0, 0]\n",
    "    for _ in range(16):\n",
    "        i = random.randint(0, 3)\n",
    "        puntos[i] += 1\n",
    "\n",
    "    visual, aural, read_write, kinesthetic = puntos\n",
    "\n",
    "    # Determinar el estilo dominante\n",
    "    max_valor = max(puntos)\n",
    "    if visual == max_valor:\n",
    "        recurso = \"video\"\n",
    "    elif aural == max_valor:\n",
    "        recurso = \"audio\"\n",
    "    elif read_write == max_valor:\n",
    "        recurso = \"texto\"\n",
    "    else:\n",
    "        recurso = \"actividad\"\n",
    "\n",
    "    return {\n",
    "        'visual': visual,\n",
    "        'aural': aural,\n",
    "        'read_write': read_write,\n",
    "        'kinesthetic': kinesthetic,\n",
    "        'recurso': recurso\n",
    "    }"
   ],
   "id": "b55438c7289df2e3"
  },
  {
   "metadata": {},
   "cell_type": "code",
   "outputs": [],
   "execution_count": null,
   "source": "data = [generar_estudiante() for _ in range(2000)]",
   "id": "325807872b317239"
  },
  {
   "metadata": {},
   "cell_type": "code",
   "outputs": [],
   "execution_count": null,
   "source": [
    "df = pd.DataFrame(data)\n",
    "df.to_csv(\"datos_vark_entrenamiento.csv\", index=False)"
   ],
   "id": "5657d59878c7bc4c"
  },
  {
   "metadata": {},
   "cell_type": "code",
   "outputs": [],
   "execution_count": null,
   "source": "df",
   "id": "a8101dbc47849e4f"
  }
 ],
 "metadata": {},
 "nbformat": 5,
 "nbformat_minor": 9
}
